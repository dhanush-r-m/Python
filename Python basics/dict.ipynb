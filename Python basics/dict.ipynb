{
 "cells": [
  {
   "cell_type": "code",
   "execution_count": 3,
   "id": "ba5a4f15",
   "metadata": {},
   "outputs": [
    {
     "name": "stdout",
     "output_type": "stream",
     "text": [
      "{'name': 'Dhanush', 'age': 19}\n",
      "<class 'dict'>\n"
     ]
    }
   ],
   "source": [
    "##Creating the Dictonaries.\n",
    "student = {\"name\" : \"Dhanush\" , \"age\" : 19}\n",
    "print(student)\n",
    "print(type(student))"
   ]
  },
  {
   "cell_type": "code",
   "execution_count": 4,
   "id": "f92fc1ec",
   "metadata": {},
   "outputs": [
    {
     "name": "stdout",
     "output_type": "stream",
     "text": [
      "Dhanush\n",
      "19\n"
     ]
    }
   ],
   "source": [
    "print(student['name'])\n",
    "print(student['age'])"
   ]
  },
  {
   "cell_type": "code",
   "execution_count": 5,
   "id": "db6c6e05",
   "metadata": {},
   "outputs": [
    {
     "name": "stdout",
     "output_type": "stream",
     "text": [
      "Not available\n"
     ]
    }
   ],
   "source": [
    "##Access with the get function()\n",
    "\n",
    "print(student.get('last_name' , \"Not available\"))"
   ]
  },
  {
   "cell_type": "code",
   "execution_count": 6,
   "id": "1a61a631",
   "metadata": {},
   "outputs": [
    {
     "name": "stdout",
     "output_type": "stream",
     "text": [
      "{'name': 'Dhanush', 'age': 20, 'address': 'India'}\n"
     ]
    }
   ],
   "source": [
    "student[\"age\"] = 20\n",
    "student[\"address\"] = \"India\"\n",
    "print(student)"
   ]
  },
  {
   "cell_type": "code",
   "execution_count": 7,
   "id": "77ae8135",
   "metadata": {},
   "outputs": [
    {
     "name": "stdout",
     "output_type": "stream",
     "text": [
      "{'age': 20, 'address': 'India'}\n"
     ]
    }
   ],
   "source": [
    "del student['name']\n",
    "print(student)"
   ]
  },
  {
   "cell_type": "code",
   "execution_count": 8,
   "id": "044f4e81",
   "metadata": {},
   "outputs": [
    {
     "name": "stdout",
     "output_type": "stream",
     "text": [
      "dict_keys(['age', 'address'])\n"
     ]
    }
   ],
   "source": [
    "keys = student.keys()\n",
    "print(keys)"
   ]
  },
  {
   "cell_type": "code",
   "execution_count": 9,
   "id": "45a13650",
   "metadata": {},
   "outputs": [],
   "source": [
    "items = student.items()"
   ]
  },
  {
   "cell_type": "code",
   "execution_count": 10,
   "id": "22604038",
   "metadata": {},
   "outputs": [
    {
     "name": "stdout",
     "output_type": "stream",
     "text": [
      "dict_items([('age', 20), ('address', 'India')])\n"
     ]
    }
   ],
   "source": [
    "print(items)"
   ]
  },
  {
   "cell_type": "code",
   "execution_count": 11,
   "id": "b049c6ed",
   "metadata": {},
   "outputs": [],
   "source": [
    "## iteration over Dict"
   ]
  },
  {
   "cell_type": "code",
   "execution_count": 12,
   "id": "0a188551",
   "metadata": {},
   "outputs": [
    {
     "name": "stdout",
     "output_type": "stream",
     "text": [
      "20\n",
      "India\n"
     ]
    }
   ],
   "source": [
    "for values in student.values():\n",
    "    print(values)"
   ]
  },
  {
   "cell_type": "code",
   "execution_count": 16,
   "id": "67d16c42",
   "metadata": {},
   "outputs": [
    {
     "name": "stdout",
     "output_type": "stream",
     "text": [
      "age:20\n",
      "address:India\n"
     ]
    }
   ],
   "source": [
    "for keys,values in student.items():\n",
    "    print(f\"{keys}:{values}\")"
   ]
  },
  {
   "cell_type": "code",
   "execution_count": 17,
   "id": "22b87eb4",
   "metadata": {},
   "outputs": [],
   "source": [
    "## Nested Dict"
   ]
  },
  {
   "cell_type": "code",
   "execution_count": 20,
   "id": "d3a9f925",
   "metadata": {},
   "outputs": [
    {
     "name": "stdout",
     "output_type": "stream",
     "text": [
      "{'student1': {'name': 'Krish', 'age': 32}, 'student2': {'name': 'Dhanush', 'age': 19}}\n"
     ]
    }
   ],
   "source": [
    "students = {\n",
    "    \"student1\" : {\"name\":\"Krish\" , \"age\":32},\n",
    "    \"student2\" : {\"name\": \"Dhanush\" , \"age\" :19}\n",
    "}\n",
    "print(students)"
   ]
  },
  {
   "cell_type": "code",
   "execution_count": 21,
   "id": "5d019402",
   "metadata": {},
   "outputs": [],
   "source": [
    "#acess the nested dict"
   ]
  },
  {
   "cell_type": "code",
   "execution_count": 22,
   "id": "96ffdfef",
   "metadata": {},
   "outputs": [
    {
     "name": "stdout",
     "output_type": "stream",
     "text": [
      "32\n"
     ]
    }
   ],
   "source": [
    "print(students[\"student1\"][\"age\"])"
   ]
  },
  {
   "cell_type": "code",
   "execution_count": null,
   "id": "7a93ef56",
   "metadata": {},
   "outputs": [],
   "source": [
    "#Iterating over the nested dict"
   ]
  },
  {
   "cell_type": "code",
   "execution_count": 24,
   "id": "0d657081",
   "metadata": {},
   "outputs": [
    {
     "data": {
      "text/plain": [
       "dict_items([('student1', {'name': 'Krish', 'age': 32}), ('student2', {'name': 'Dhanush', 'age': 19})])"
      ]
     },
     "execution_count": 24,
     "metadata": {},
     "output_type": "execute_result"
    }
   ],
   "source": [
    "students.items()\n"
   ]
  },
  {
   "cell_type": "code",
   "execution_count": 29,
   "id": "f3480731",
   "metadata": {},
   "outputs": [
    {
     "name": "stdout",
     "output_type": "stream",
     "text": [
      "age:20\n",
      "address:India\n",
      "age:20\n",
      "address:India\n"
     ]
    }
   ],
   "source": [
    "for student_id , student_info in student.items():\n",
    "    print(f\"{student_id}:{student_info}\")\n",
    "\n",
    "for keys, values in student.items():\n",
    "    print(f\"{keys}:{values}\")"
   ]
  },
  {
   "cell_type": "code",
   "execution_count": 30,
   "id": "481389e9",
   "metadata": {},
   "outputs": [],
   "source": [
    "# Dict Comphrehension"
   ]
  },
  {
   "cell_type": "code",
   "execution_count": 31,
   "id": "f33ea77b",
   "metadata": {},
   "outputs": [
    {
     "name": "stdout",
     "output_type": "stream",
     "text": [
      "{0: 0, 1: 1, 2: 4, 3: 9, 4: 16}\n"
     ]
    }
   ],
   "source": [
    "squares = {x:x**2 for x in range(5)}\n",
    "print(squares)"
   ]
  },
  {
   "cell_type": "code",
   "execution_count": 32,
   "id": "0f1d061c",
   "metadata": {},
   "outputs": [
    {
     "name": "stdout",
     "output_type": "stream",
     "text": [
      "{'a': 2, 'b': 4, 'c': 4, 'd': 7}\n"
     ]
    }
   ],
   "source": [
    "# Merge the dict\n",
    "dict1 = {\"a\": 2 , \"b\": 4}\n",
    "dict2 = {\"c\": 4 , \"d\": 7}\n",
    "merged_dict = {**dict1 , **dict2}\n",
    "print(merged_dict)"
   ]
  },
  {
   "cell_type": "code",
   "execution_count": 33,
   "id": "bfd0602f",
   "metadata": {},
   "outputs": [
    {
     "name": "stdout",
     "output_type": "stream",
     "text": [
      "{1: 1, 2: 2, 3: 3, 4: 2}\n"
     ]
    }
   ],
   "source": [
    "list = [1,2,2,3,3,3,4,4]\n",
    "frequency = {}\n",
    "\n",
    "for list in list:\n",
    "    if list in frequency:\n",
    "        frequency[list] +=1\n",
    "\n",
    "    else:\n",
    "        frequency[list] = 1\n",
    "    \n",
    "print(frequency)"
   ]
  },
  {
   "cell_type": "code",
   "execution_count": null,
   "id": "065e9f7b",
   "metadata": {},
   "outputs": [],
   "source": []
  }
 ],
 "metadata": {
  "kernelspec": {
   "display_name": "base",
   "language": "python",
   "name": "python3"
  },
  "language_info": {
   "codemirror_mode": {
    "name": "ipython",
    "version": 3
   },
   "file_extension": ".py",
   "mimetype": "text/x-python",
   "name": "python",
   "nbconvert_exporter": "python",
   "pygments_lexer": "ipython3",
   "version": "3.12.7"
  }
 },
 "nbformat": 4,
 "nbformat_minor": 5
}
