{
 "cells": [
  {
   "cell_type": "code",
   "execution_count": 4,
   "id": "aaf979d7",
   "metadata": {},
   "outputs": [],
   "source": [
    "def convert_temperature(temp , unit):\n",
    "    \"\"\"This Function helps in the temperature change from the Celuisis and Fahrenheit\"\"\"\n",
    "\n",
    "    if unit == \"C\":\n",
    "         return (temp * 9.0/5.0) + 32\n",
    "    elif unit == \"F\":\n",
    "        return (temp - 32) * 5.0/9.0\n",
    "    else:\n",
    "        return \"Invalid unit\""
   ]
  },
  {
   "cell_type": "code",
   "execution_count": 5,
   "id": "53851e75",
   "metadata": {},
   "outputs": [
    {
     "name": "stdout",
     "output_type": "stream",
     "text": [
      "77.0\n",
      "37.77777777777778\n"
     ]
    }
   ],
   "source": [
    "print(convert_temperature(25, \"C\"))\n",
    "print(convert_temperature(100, \"F\"))"
   ]
  },
  {
   "cell_type": "code",
   "execution_count": 6,
   "id": "3eb79ba4",
   "metadata": {},
   "outputs": [],
   "source": [
    "def is_strong_password(password):\n",
    "    \"\"\"Check if the password is strong enough.\"\"\"\n",
    "    if len(password) < 8:\n",
    "        return False\n",
    "    has_upper = any(c.isupper() for c in password)\n",
    "    has_lower = any(c.islower() for c in password)\n",
    "    has_digit = any(c.isdigit() for c in password)\n",
    "    has_special = any(not c.isalnum() for c in password)\n",
    "    return has_upper and has_lower and has_digit and has_special"
   ]
  },
  {
   "cell_type": "code",
   "execution_count": 7,
   "id": "33e56877",
   "metadata": {},
   "outputs": [
    {
     "data": {
      "text/plain": [
       "True"
      ]
     },
     "execution_count": 7,
     "metadata": {},
     "output_type": "execute_result"
    }
   ],
   "source": [
    "is_strong_password(\"Password123!\")"
   ]
  },
  {
   "cell_type": "code",
   "execution_count": 9,
   "id": "965e1c99",
   "metadata": {},
   "outputs": [
    {
     "name": "stdout",
     "output_type": "stream",
     "text": [
      "The total cost is: 9.2\n"
     ]
    }
   ],
   "source": [
    "def calculate_total_cost_pythonic(cart):\n",
    "    \"\"\"Calculate the total cost of items in a Pythonic way.\"\"\"\n",
    "    return sum(item['price'] * item['quantity'] for item in cart)\n",
    "\n",
    "cart = [{\"item\": \"apple\", \"price\": 1.0, \"quantity\": 3},\n",
    "        {\"item\": \"banana\", \"price\": 0.5, \"quantity\": 6},\n",
    "        {\"item\": \"orange\", \"price\": 0.8, \"quantity\": 4}]\n",
    "\n",
    "total_cost = calculate_total_cost_pythonic(cart)\n",
    "print(f\"The total cost is: {total_cost}\")\n"
   ]
  },
  {
   "cell_type": "code",
   "execution_count": 10,
   "id": "52dd8618",
   "metadata": {},
   "outputs": [
    {
     "name": "stdout",
     "output_type": "stream",
     "text": [
      "True\n"
     ]
    }
   ],
   "source": [
    "def is_palindrome(s):\n",
    "    \"\"\"Check the string to be palindrome or not.\"\"\"\n",
    "    s = s.lower().replace(\" \" , \"\")\n",
    "    return s == s[::-1]\n",
    "\n",
    "print(is_palindrome(\"NOON\"))"
   ]
  },
  {
   "cell_type": "code",
   "execution_count": 13,
   "id": "448cd911",
   "metadata": {},
   "outputs": [],
   "source": [
    "def calculate_factorial(n):\n",
    "    \"\"\"Calculate the factorail of the number\"\"\"\n",
    "    if n == 0:\n",
    "        return 1\n",
    "    else:\n",
    "        return n * calculate_factorial(n - 1)"
   ]
  },
  {
   "cell_type": "code",
   "execution_count": 14,
   "id": "6757188b",
   "metadata": {},
   "outputs": [
    {
     "data": {
      "text/plain": [
       "120"
      ]
     },
     "execution_count": 14,
     "metadata": {},
     "output_type": "execute_result"
    }
   ],
   "source": [
    "calculate_factorial(5)"
   ]
  },
  {
   "cell_type": "code",
   "execution_count": null,
   "id": "b0c12ef6",
   "metadata": {},
   "outputs": [],
   "source": []
  }
 ],
 "metadata": {
  "kernelspec": {
   "display_name": "base",
   "language": "python",
   "name": "python3"
  },
  "language_info": {
   "codemirror_mode": {
    "name": "ipython",
    "version": 3
   },
   "file_extension": ".py",
   "mimetype": "text/x-python",
   "name": "python",
   "nbconvert_exporter": "python",
   "pygments_lexer": "ipython3",
   "version": "3.12.7"
  }
 },
 "nbformat": 4,
 "nbformat_minor": 5
}
