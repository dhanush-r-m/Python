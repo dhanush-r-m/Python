{
  "nbformat": 4,
  "nbformat_minor": 0,
  "metadata": {
    "colab": {
      "provenance": [],
      "authorship_tag": "ABX9TyOjYNs9y5PtAgxhIZ+K0iCQ",
      "include_colab_link": true
    },
    "kernelspec": {
      "name": "python3",
      "display_name": "Python 3"
    },
    "language_info": {
      "name": "python"
    }
  },
  "cells": [
    {
      "cell_type": "markdown",
      "metadata": {
        "id": "view-in-github",
        "colab_type": "text"
      },
      "source": [
        "<a href=\"https://colab.research.google.com/github/dhanush-r-m/Python/blob/main/Polynomial_Regression_Implementation.ipynb\" target=\"_parent\"><img src=\"https://colab.research.google.com/assets/colab-badge.svg\" alt=\"Open In Colab\"/></a>"
      ]
    },
    {
      "cell_type": "code",
      "execution_count": 1,
      "metadata": {
        "id": "IEiIFUa9SnId"
      },
      "outputs": [],
      "source": [
        "import numpy as np\n",
        "import pandas as pd\n",
        "import matplotlib.pyplot as plt\n",
        "%matplotlib inline"
      ]
    },
    {
      "cell_type": "code",
      "source": [
        "X = 6 * np.random.rand(100, 1) - 3\n",
        "Y = 0.5 * X**2 + 1.5*X + 2 + np.random.randn(100 , 1)\n",
        "plt.scatter(X, Y , color = \"red\")\n",
        "plt.xlabel( 'X dataset')\n",
        "plt.ylabel( 'Y dataset')\n",
        "plt.show()"
      ],
      "metadata": {
        "colab": {
          "base_uri": "https://localhost:8080/",
          "height": 449
        },
        "id": "XKs85AAZTPpD",
        "outputId": "047b03f9-e08d-4bd8-f22a-27339246a3e7"
      },
      "execution_count": 6,
      "outputs": [
        {
          "output_type": "display_data",
          "data": {
            "text/plain": [
              "<Figure size 640x480 with 1 Axes>"
            ],
            "image/png": "[encoded data removed]"
          },
          "metadata": {}
        }
      ]
    },
    {
      "cell_type": "code",
      "source": [
        "from sklearn.model_selection import train_test_split\n",
        "X_train, X_test, Y_train, Y_test = train_test_split(X, Y, test_size = 0.2, random_state = 42)"
      ],
      "metadata": {
        "id": "sG7nmhGhUTm1"
      },
      "execution_count": 8,
      "outputs": []
    },
    {
      "cell_type": "code",
      "source": [
        "# lets implement a simple linear regression"
      ],
      "metadata": {
        "id": "gbk5t7C5VJ2L"
      },
      "execution_count": 9,
      "outputs": []
    },
    {
      "cell_type": "code",
      "source": [
        "from sklearn.linear_model import LinearRegression\n",
        "lin_reg = LinearRegression()\n"
      ],
      "metadata": {
        "id": "Mw38oHt9VUQL"
      },
      "execution_count": 11,
      "outputs": []
    },
    {
      "cell_type": "code",
      "source": [
        "lin_reg.fit(X_train, Y_train)"
      ],
      "metadata": {
        "colab": {
          "base_uri": "https://localhost:8080/",
          "height": 80
        },
        "id": "85iT1EcRVa83",
        "outputId": "c9fcf161-86ff-4c97-b573-e500ac4d83eb"
      },
      "execution_count": 12,
      "outputs": [
        {
          "output_type": "execute_result",
          "data": {
            "text/plain": [
              "LinearRegression()"
            ],
            "text/html": [
              "<style>#sk-container-id-2 {\n",
              "  /* Definition of color scheme common for light and dark mode */\n",
              "  --sklearn-color-text: #000;\n",
              "  --sklearn-color-text-muted: #666;\n",
              "  --sklearn-color-line: gray;\n",
              "  /* Definition of color scheme for unfitted estimators */\n",
              "  --sklearn-color-unfitted-level-0: #fff5e6;\n",
              "  --sklearn-color-unfitted-level-1: #f6e4d2;\n",
              "  --sklearn-color-unfitted-level-2: #ffe0b3;\n",
              "  --sklearn-color-unfitted-level-3: chocolate;\n",
              "  /* Definition of color scheme for fitted estimators */\n",
              "  --sklearn-color-fitted-level-0: #f0f8ff;\n",
              "  --sklearn-color-fitted-level-1: #d4ebff;\n",
              "  --sklearn-color-fitted-level-2: #b3dbfd;\n",
              "  --sklearn-color-fitted-level-3: cornflowerblue;\n",
              "\n",
              "  /* Specific color for light theme */\n",
              "  --sklearn-color-text-on-default-background: var(--sg-text-color, var(--theme-code-foreground, var(--jp-content-font-color1, black)));\n",
              "  --sklearn-color-background: var(--sg-background-color, var(--theme-background, var(--jp-layout-color0, white)));\n",
              "  --sklearn-color-border-box: var(--sg-text-color, var(--theme-code-foreground, var(--jp-content-font-color1, black)));\n",
              "  --sklearn-color-icon: #696969;\n",
              "\n",
              "  @media (prefers-color-scheme: dark) {\n",
              "    /* Redefinition of color scheme for dark theme */\n",
              "    --sklearn-color-text-on-default-background: var(--sg-text-color, var(--theme-code-foreground, var(--jp-content-font-color1, white)));\n",
              "    --sklearn-color-background: var(--sg-background-color, var(--theme-background, var(--jp-layout-color0, #111)));\n",
              "    --sklearn-color-border-box: var(--sg-text-color, var(--theme-code-foreground, var(--jp-content-font-color1, white)));\n",
              "    --sklearn-color-icon: #878787;\n",
              "  }\n",
              "}\n",
              "\n",
              "#sk-container-id-2 {\n",
              "  color: var(--sklearn-color-text);\n",
              "}\n",
              "\n",
              "#sk-container-id-2 pre {\n",
              "  padding: 0;\n",
              "}\n",
              "\n",
              "#sk-container-id-2 input.sk-hidden--visually {\n",
              "  border: 0;\n",
              "  clip: rect(1px 1px 1px 1px);\n",
              "  clip: rect(1px, 1px, 1px, 1px);\n",
              "  height: 1px;\n",
              "  margin: -1px;\n",
              "  overflow: hidden;\n",
              "  padding: 0;\n",
              "  position: absolute;\n",
              "  width: 1px;\n",
              "}\n",
              "\n",
              "#sk-container-id-2 div.sk-dashed-wrapped {\n",
              "  border: 1px dashed var(--sklearn-color-line);\n",
              "  margin: 0 0.4em 0.5em 0.4em;\n",
              "  box-sizing: border-box;\n",
              "  padding-bottom: 0.4em;\n",
              "  background-color: var(--sklearn-color-background);\n",
              "}\n",
              "\n",
              "#sk-container-id-2 div.sk-container {\n",
              "  /* jupyter's `normalize.less` sets `[hidden] { display: none; }`\n",
              "     but bootstrap.min.css set `[hidden] { display: none !important; }`\n",
              "     so we also need the `!important` here to be able to override the\n",
              "     default hidden behavior on the sphinx rendered scikit-learn.org.\n",
              "     See: https://github.com/scikit-learn/scikit-learn/issues/21755 */\n",
              "  display: inline-block !important;\n",
              "  position: relative;\n",
              "}\n",
              "\n",
              "#sk-container-id-2 div.sk-text-repr-fallback {\n",
              "  display: none;\n",
              "}\n",
              "\n",
              "div.sk-parallel-item,\n",
              "div.sk-serial,\n",
              "div.sk-item {\n",
              "  /* draw centered vertical line to link estimators */\n",
              "  background-image: linear-gradient(var(--sklearn-color-text-on-default-background), var(--sklearn-color-text-on-default-background));\n",
              "  background-size: 2px 100%;\n",
              "  background-repeat: no-repeat;\n",
              "  background-position: center center;\n",
              "}\n",
              "\n",
              "/* Parallel-specific style estimator block */\n",
              "\n",
              "#sk-container-id-2 div.sk-parallel-item::after {\n",
              "  content: \"\";\n",
              "  width: 100%;\n",
              "  border-bottom: 2px solid var(--sklearn-color-text-on-default-background);\n",
              "  flex-grow: 1;\n",
              "}\n",
              "\n",
              "#sk-container-id-2 div.sk-parallel {\n",
              "  display: flex;\n",
              "  align-items: stretch;\n",
              "  justify-content: center;\n",
              "  background-color: var(--sklearn-color-background);\n",
              "  position: relative;\n",
              "}\n",
              "\n",
              "#sk-container-id-2 div.sk-parallel-item {\n",
              "  display: flex;\n",
              "  flex-direction: column;\n",
              "}\n",
              "\n",
              "#sk-container-id-2 div.sk-parallel-item:first-child::after {\n",
              "  align-self: flex-end;\n",
              "  width: 50%;\n",
              "}\n",
              "\n",
              "#sk-container-id-2 div.sk-parallel-item:last-child::after {\n",
              "  align-self: flex-start;\n",
              "  width: 50%;\n",
              "}\n",
              "\n",
              "#sk-container-id-2 div.sk-parallel-item:only-child::after {\n",
              "  width: 0;\n",
              "}\n",
              "\n",
              "/* Serial-specific style estimator block */\n",
              "\n",
              "#sk-container-id-2 div.sk-serial {\n",
              "  display: flex;\n",
              "  flex-direction: column;\n",
              "  align-items: center;\n",
              "  background-color: var(--sklearn-color-background);\n",
              "  padding-right: 1em;\n",
              "  padding-left: 1em;\n",
              "}\n",
              "\n",
              "\n",
              "/* Toggleable style: style used for estimator/Pipeline/ColumnTransformer box that is\n",
              "clickable and can be expanded/collapsed.\n",
              "- Pipeline and ColumnTransformer use this feature and define the default style\n",
              "- Estimators will overwrite some part of the style using the `sk-estimator` class\n",
              "*/\n",
              "\n",
              "/* Pipeline and ColumnTransformer style (default) */\n",
              "\n",
              "#sk-container-id-2 div.sk-toggleable {\n",
              "  /* Default theme specific background. It is overwritten whether we have a\n",
              "  specific estimator or a Pipeline/ColumnTransformer */\n",
              "  background-color: var(--sklearn-color-background);\n",
              "}\n",
              "\n",
              "/* Toggleable label */\n",
              "#sk-container-id-2 label.sk-toggleable__label {\n",
              "  cursor: pointer;\n",
              "  display: flex;\n",
              "  width: 100%;\n",
              "  margin-bottom: 0;\n",
              "  padding: 0.5em;\n",
              "  box-sizing: border-box;\n",
              "  text-align: center;\n",
              "  align-items: start;\n",
              "  justify-content: space-between;\n",
              "  gap: 0.5em;\n",
              "}\n",
              "\n",
              "#sk-container-id-2 label.sk-toggleable__label .caption {\n",
              "  font-size: 0.6rem;\n",
              "  font-weight: lighter;\n",
              "  color: var(--sklearn-color-text-muted);\n",
              "}\n",
              "\n",
              "#sk-container-id-2 label.sk-toggleable__label-arrow:before {\n",
              "  /* Arrow on the left of the label */\n",
              "  content: \"▸\";\n",
              "  float: left;\n",
              "  margin-right: 0.25em;\n",
              "  color: var(--sklearn-color-icon);\n",
              "}\n",
              "\n",
              "#sk-container-id-2 label.sk-toggleable__label-arrow:hover:before {\n",
              "  color: var(--sklearn-color-text);\n",
              "}\n",
              "\n",
              "/* Toggleable content - dropdown */\n",
              "\n",
              "#sk-container-id-2 div.sk-toggleable__content {\n",
              "  max-height: 0;\n",
              "  max-width: 0;\n",
              "  overflow: hidden;\n",
              "  text-align: left;\n",
              "  /* unfitted */\n",
              "  background-color: var(--sklearn-color-unfitted-level-0);\n",
              "}\n",
              "\n",
              "#sk-container-id-2 div.sk-toggleable__content.fitted {\n",
              "  /* fitted */\n",
              "  background-color: var(--sklearn-color-fitted-level-0);\n",
              "}\n",
              "\n",
              "#sk-container-id-2 div.sk-toggleable__content pre {\n",
              "  margin: 0.2em;\n",
              "  border-radius: 0.25em;\n",
              "  color: var(--sklearn-color-text);\n",
              "  /* unfitted */\n",
              "  background-color: var(--sklearn-color-unfitted-level-0);\n",
              "}\n",
              "\n",
              "#sk-container-id-2 div.sk-toggleable__content.fitted pre {\n",
              "  /* unfitted */\n",
              "  background-color: var(--sklearn-color-fitted-level-0);\n",
              "}\n",
              "\n",
              "#sk-container-id-2 input.sk-toggleable__control:checked~div.sk-toggleable__content {\n",
              "  /* Expand drop-down */\n",
              "  max-height: 200px;\n",
              "  max-width: 100%;\n",
              "  overflow: auto;\n",
              "}\n",
              "\n",
              "#sk-container-id-2 input.sk-toggleable__control:checked~label.sk-toggleable__label-arrow:before {\n",
              "  content: \"▾\";\n",
              "}\n",
              "\n",
              "/* Pipeline/ColumnTransformer-specific style */\n",
              "\n",
              "#sk-container-id-2 div.sk-label input.sk-toggleable__control:checked~label.sk-toggleable__label {\n",
              "  color: var(--sklearn-color-text);\n",
              "  background-color: var(--sklearn-color-unfitted-level-2);\n",
              "}\n",
              "\n",
              "#sk-container-id-2 div.sk-label.fitted input.sk-toggleable__control:checked~label.sk-toggleable__label {\n",
              "  background-color: var(--sklearn-color-fitted-level-2);\n",
              "}\n",
              "\n",
              "/* Estimator-specific style */\n",
              "\n",
              "/* Colorize estimator box */\n",
              "#sk-container-id-2 div.sk-estimator input.sk-toggleable__control:checked~label.sk-toggleable__label {\n",
              "  /* unfitted */\n",
              "  background-color: var(--sklearn-color-unfitted-level-2);\n",
              "}\n",
              "\n",
              "#sk-container-id-2 div.sk-estimator.fitted input.sk-toggleable__control:checked~label.sk-toggleable__label {\n",
              "  /* fitted */\n",
              "  background-color: var(--sklearn-color-fitted-level-2);\n",
              "}\n",
              "\n",
              "#sk-container-id-2 div.sk-label label.sk-toggleable__label,\n",
              "#sk-container-id-2 div.sk-label label {\n",
              "  /* The background is the default theme color */\n",
              "  color: var(--sklearn-color-text-on-default-background);\n",
              "}\n",
              "\n",
              "/* On hover, darken the color of the background */\n",
              "#sk-container-id-2 div.sk-label:hover label.sk-toggleable__label {\n",
              "  color: var(--sklearn-color-text);\n",
              "  background-color: var(--sklearn-color-unfitted-level-2);\n",
              "}\n",
              "\n",
              "/* Label box, darken color on hover, fitted */\n",
              "#sk-container-id-2 div.sk-label.fitted:hover label.sk-toggleable__label.fitted {\n",
              "  color: var(--sklearn-color-text);\n",
              "  background-color: var(--sklearn-color-fitted-level-2);\n",
              "}\n",
              "\n",
              "/* Estimator label */\n",
              "\n",
              "#sk-container-id-2 div.sk-label label {\n",
              "  font-family: monospace;\n",
              "  font-weight: bold;\n",
              "  display: inline-block;\n",
              "  line-height: 1.2em;\n",
              "}\n",
              "\n",
              "#sk-container-id-2 div.sk-label-container {\n",
              "  text-align: center;\n",
              "}\n",
              "\n",
              "/* Estimator-specific */\n",
              "#sk-container-id-2 div.sk-estimator {\n",
              "  font-family: monospace;\n",
              "  border: 1px dotted var(--sklearn-color-border-box);\n",
              "  border-radius: 0.25em;\n",
              "  box-sizing: border-box;\n",
              "  margin-bottom: 0.5em;\n",
              "  /* unfitted */\n",
              "  background-color: var(--sklearn-color-unfitted-level-0);\n",
              "}\n",
              "\n",
              "#sk-container-id-2 div.sk-estimator.fitted {\n",
              "  /* fitted */\n",
              "  background-color: var(--sklearn-color-fitted-level-0);\n",
              "}\n",
              "\n",
              "/* on hover */\n",
              "#sk-container-id-2 div.sk-estimator:hover {\n",
              "  /* unfitted */\n",
              "  background-color: var(--sklearn-color-unfitted-level-2);\n",
              "}\n",
              "\n",
              "#sk-container-id-2 div.sk-estimator.fitted:hover {\n",
              "  /* fitted */\n",
              "  background-color: var(--sklearn-color-fitted-level-2);\n",
              "}\n",
              "\n",
              "/* Specification for estimator info (e.g. \"i\" and \"?\") */\n",
              "\n",
              "/* Common style for \"i\" and \"?\" */\n",
              "\n",
              ".sk-estimator-doc-link,\n",
              "a:link.sk-estimator-doc-link,\n",
              "a:visited.sk-estimator-doc-link {\n",
              "  float: right;\n",
              "  font-size: smaller;\n",
              "  line-height: 1em;\n",
              "  font-family: monospace;\n",
              "  background-color: var(--sklearn-color-background);\n",
              "  border-radius: 1em;\n",
              "  height: 1em;\n",
              "  width: 1em;\n",
              "  text-decoration: none !important;\n",
              "  margin-left: 0.5em;\n",
              "  text-align: center;\n",
              "  /* unfitted */\n",
              "  border: var(--sklearn-color-unfitted-level-1) 1pt solid;\n",
              "  color: var(--sklearn-color-unfitted-level-1);\n",
              "}\n",
              "\n",
              ".sk-estimator-doc-link.fitted,\n",
              "a:link.sk-estimator-doc-link.fitted,\n",
              "a:visited.sk-estimator-doc-link.fitted {\n",
              "  /* fitted */\n",
              "  border: var(--sklearn-color-fitted-level-1) 1pt solid;\n",
              "  color: var(--sklearn-color-fitted-level-1);\n",
              "}\n",
              "\n",
              "/* On hover */\n",
              "div.sk-estimator:hover .sk-estimator-doc-link:hover,\n",
              ".sk-estimator-doc-link:hover,\n",
              "div.sk-label-container:hover .sk-estimator-doc-link:hover,\n",
              ".sk-estimator-doc-link:hover {\n",
              "  /* unfitted */\n",
              "  background-color: var(--sklearn-color-unfitted-level-3);\n",
              "  color: var(--sklearn-color-background);\n",
              "  text-decoration: none;\n",
              "}\n",
              "\n",
              "div.sk-estimator.fitted:hover .sk-estimator-doc-link.fitted:hover,\n",
              ".sk-estimator-doc-link.fitted:hover,\n",
              "div.sk-label-container:hover .sk-estimator-doc-link.fitted:hover,\n",
              ".sk-estimator-doc-link.fitted:hover {\n",
              "  /* fitted */\n",
              "  background-color: var(--sklearn-color-fitted-level-3);\n",
              "  color: var(--sklearn-color-background);\n",
              "  text-decoration: none;\n",
              "}\n",
              "\n",
              "/* Span, style for the box shown on hovering the info icon */\n",
              ".sk-estimator-doc-link span {\n",
              "  display: none;\n",
              "  z-index: 9999;\n",
              "  position: relative;\n",
              "  font-weight: normal;\n",
              "  right: .2ex;\n",
              "  padding: .5ex;\n",
              "  margin: .5ex;\n",
              "  width: min-content;\n",
              "  min-width: 20ex;\n",
              "  max-width: 50ex;\n",
              "  color: var(--sklearn-color-text);\n",
              "  box-shadow: 2pt 2pt 4pt #999;\n",
              "  /* unfitted */\n",
              "  background: var(--sklearn-color-unfitted-level-0);\n",
              "  border: .5pt solid var(--sklearn-color-unfitted-level-3);\n",
              "}\n",
              "\n",
              ".sk-estimator-doc-link.fitted span {\n",
              "  /* fitted */\n",
              "  background: var(--sklearn-color-fitted-level-0);\n",
              "  border: var(--sklearn-color-fitted-level-3);\n",
              "}\n",
              "\n",
              ".sk-estimator-doc-link:hover span {\n",
              "  display: block;\n",
              "}\n",
              "\n",
              "/* \"?\"-specific style due to the `<a>` HTML tag */\n",
              "\n",
              "#sk-container-id-2 a.estimator_doc_link {\n",
              "  float: right;\n",
              "  font-size: 1rem;\n",
              "  line-height: 1em;\n",
              "  font-family: monospace;\n",
              "  background-color: var(--sklearn-color-background);\n",
              "  border-radius: 1rem;\n",
              "  height: 1rem;\n",
              "  width: 1rem;\n",
              "  text-decoration: none;\n",
              "  /* unfitted */\n",
              "  color: var(--sklearn-color-unfitted-level-1);\n",
              "  border: var(--sklearn-color-unfitted-level-1) 1pt solid;\n",
              "}\n",
              "\n",
              "#sk-container-id-2 a.estimator_doc_link.fitted {\n",
              "  /* fitted */\n",
              "  border: var(--sklearn-color-fitted-level-1) 1pt solid;\n",
              "  color: var(--sklearn-color-fitted-level-1);\n",
              "}\n",
              "\n",
              "/* On hover */\n",
              "#sk-container-id-2 a.estimator_doc_link:hover {\n",
              "  /* unfitted */\n",
              "  background-color: var(--sklearn-color-unfitted-level-3);\n",
              "  color: var(--sklearn-color-background);\n",
              "  text-decoration: none;\n",
              "}\n",
              "\n",
              "#sk-container-id-2 a.estimator_doc_link.fitted:hover {\n",
              "  /* fitted */\n",
              "  background-color: var(--sklearn-color-fitted-level-3);\n",
              "}\n",
              "</style><div id=\"sk-container-id-2\" class=\"sk-top-container\"><div class=\"sk-text-repr-fallback\"><pre>LinearRegression()</pre><b>In a Jupyter environment, please rerun this cell to show the HTML representation or trust the notebook. <br />On GitHub, the HTML representation is unable to render, please try loading this page with nbviewer.org.</b></div><div class=\"sk-container\" hidden><div class=\"sk-item\"><div class=\"sk-estimator fitted sk-toggleable\"><input class=\"sk-toggleable__control sk-hidden--visually\" id=\"sk-estimator-id-2\" type=\"checkbox\" checked><label for=\"sk-estimator-id-2\" class=\"sk-toggleable__label fitted sk-toggleable__label-arrow\"><div><div>LinearRegression</div></div><div><a class=\"sk-estimator-doc-link fitted\" rel=\"noreferrer\" target=\"_blank\" href=\"https://scikit-learn.org/1.6/modules/generated/sklearn.linear_model.LinearRegression.html\">?<span>Documentation for LinearRegression</span></a><span class=\"sk-estimator-doc-link fitted\">i<span>Fitted</span></span></div></label><div class=\"sk-toggleable__content fitted\"><pre>LinearRegression()</pre></div> </div></div></div></div>"
            ]
          },
          "metadata": {},
          "execution_count": 12
        }
      ]
    },
    {
      "cell_type": "code",
      "source": [
        "from sklearn.metrics import r2_score #finding the r2 score\n",
        "y_pred = lin_reg.predict(X_test)\n",
        "r2_score(Y_test, y_pred)"
      ],
      "metadata": {
        "colab": {
          "base_uri": "https://localhost:8080/"
        },
        "id": "hc_gcMOUWJDj",
        "outputId": "592d7bbf-cacf-49d0-a302-2e31c9af866a"
      },
      "execution_count": 14,
      "outputs": [
        {
          "output_type": "execute_result",
          "data": {
            "text/plain": [
              "0.709451918026651"
            ]
          },
          "metadata": {},
          "execution_count": 14
        }
      ]
    },
    {
      "cell_type": "code",
      "source": [
        "#Lets Visualize this Model\n",
        "plt.scatter(X, lin_reg.predict(X), color = 'blue')\n",
        "plt.scatter(X_train, Y_train)"
      ],
      "metadata": {
        "colab": {
          "base_uri": "https://localhost:8080/",
          "height": 447
        },
        "id": "4ydn75phWYjy",
        "outputId": "e7ea9c13-afc4-4934-fa69-c303dc4d1393"
      },
      "execution_count": 18,
      "outputs": [
        {
          "output_type": "execute_result",
          "data": {
            "text/plain": [
              "<matplotlib.collections.PathCollection at 0x78599eb0a850>"
            ]
          },
          "metadata": {},
          "execution_count": 18
        },
        {
          "output_type": "display_data",
          "data": {
            "text/plain": [
              "<Figure size 640x480 with 1 Axes>"
            ],
            "image/png": "[encoded data removed]"
          },
          "metadata": {}
        }
      ]
    },
    {
      "cell_type": "code",
      "source": [
        "#Lets apply the polynomial Transformation\n",
        "from sklearn.preprocessing import PolynomialFeatures\n",
        "poly_reg = PolynomialFeatures(degree = 2, include_bias=True)\n",
        "X_train_poly = poly_reg.fit_transform(X_train)\n",
        "X_test_poly = poly_reg.fit_transform(X_test)"
      ],
      "metadata": {
        "id": "MnuR1WmJW1gr"
      },
      "execution_count": 21,
      "outputs": []
    },
    {
      "cell_type": "code",
      "source": [
        "X_train_poly"
      ],
      "metadata": {
        "colab": {
          "base_uri": "https://localhost:8080/"
        },
        "id": "n3kj2rDpYFxu",
        "outputId": "654da692-af18-4b70-fdc1-0d803c8ee16d"
      },
      "execution_count": 22,
      "outputs": [
        {
          "output_type": "execute_result",
          "data": {
            "text/plain": [
              "array([[ 1.00000000e+00,  1.87029329e+00,  3.49799700e+00],\n",
              "       [ 1.00000000e+00, -1.54227843e+00,  2.37862275e+00],\n",
              "       [ 1.00000000e+00, -2.58536871e+00,  6.68413137e+00],\n",
              "       [ 1.00000000e+00,  2.53250090e+00,  6.41356079e+00],\n",
              "       [ 1.00000000e+00, -2.64496128e+00,  6.99582016e+00],\n",
              "       [ 1.00000000e+00, -8.76078116e-01,  7.67512865e-01],\n",
              "       [ 1.00000000e+00, -2.77768308e+00,  7.71552330e+00],\n",
              "       [ 1.00000000e+00,  6.20938458e-02,  3.85564569e-03],\n",
              "       [ 1.00000000e+00,  1.00891868e+00,  1.01791691e+00],\n",
              "       [ 1.00000000e+00, -2.10849364e+00,  4.44574541e+00],\n",
              "       [ 1.00000000e+00,  2.36284937e+00,  5.58305714e+00],\n",
              "       [ 1.00000000e+00, -1.39821571e+00,  1.95500717e+00],\n",
              "       [ 1.00000000e+00,  1.55888447e+00,  2.43012080e+00],\n",
              "       [ 1.00000000e+00,  1.88787541e+00,  3.56407357e+00],\n",
              "       [ 1.00000000e+00, -5.83058712e-01,  3.39957462e-01],\n",
              "       [ 1.00000000e+00,  2.29227757e+00,  5.25453644e+00],\n",
              "       [ 1.00000000e+00,  1.17670168e+00,  1.38462684e+00],\n",
              "       [ 1.00000000e+00,  7.94457253e-01,  6.31162326e-01],\n",
              "       [ 1.00000000e+00,  2.81691647e-01,  7.93501839e-02],\n",
              "       [ 1.00000000e+00,  8.16645537e-01,  6.66909932e-01],\n",
              "       [ 1.00000000e+00, -1.98394720e+00,  3.93604649e+00],\n",
              "       [ 1.00000000e+00, -2.62991909e+00,  6.91647443e+00],\n",
              "       [ 1.00000000e+00,  2.06207585e+00,  4.25215683e+00],\n",
              "       [ 1.00000000e+00,  7.37701987e-01,  5.44204222e-01],\n",
              "       [ 1.00000000e+00,  1.01522122e+00,  1.03067413e+00],\n",
              "       [ 1.00000000e+00,  2.84601526e+00,  8.09980287e+00],\n",
              "       [ 1.00000000e+00,  2.34011504e+00,  5.47613840e+00],\n",
              "       [ 1.00000000e+00, -2.97132164e+00,  8.82875228e+00],\n",
              "       [ 1.00000000e+00, -4.42948778e-01,  1.96203620e-01],\n",
              "       [ 1.00000000e+00,  5.42697507e-01,  2.94520584e-01],\n",
              "       [ 1.00000000e+00, -1.76727067e+00,  3.12324563e+00],\n",
              "       [ 1.00000000e+00, -1.98199030e-01,  3.92828555e-02],\n",
              "       [ 1.00000000e+00, -1.64996005e+00,  2.72236817e+00],\n",
              "       [ 1.00000000e+00, -1.65988010e+00,  2.75520194e+00],\n",
              "       [ 1.00000000e+00,  1.24243220e+00,  1.54363777e+00],\n",
              "       [ 1.00000000e+00, -2.70299591e+00,  7.30618690e+00],\n",
              "       [ 1.00000000e+00, -2.94352403e+00,  8.66433372e+00],\n",
              "       [ 1.00000000e+00,  1.46832054e+00,  2.15596522e+00],\n",
              "       [ 1.00000000e+00,  2.38718897e+00,  5.69867118e+00],\n",
              "       [ 1.00000000e+00,  1.65064256e+00,  2.72462086e+00],\n",
              "       [ 1.00000000e+00,  1.46625983e+00,  2.14991790e+00],\n",
              "       [ 1.00000000e+00,  2.66201202e+00,  7.08630798e+00],\n",
              "       [ 1.00000000e+00,  2.51661470e-01,  6.33334956e-02],\n",
              "       [ 1.00000000e+00,  8.31715861e-01,  6.91751274e-01],\n",
              "       [ 1.00000000e+00,  2.03600255e+00,  4.14530638e+00],\n",
              "       [ 1.00000000e+00,  2.42750981e+00,  5.89280389e+00],\n",
              "       [ 1.00000000e+00,  1.20233951e-01,  1.44562030e-02],\n",
              "       [ 1.00000000e+00,  3.14417312e-01,  9.88582460e-02],\n",
              "       [ 1.00000000e+00,  2.87558562e+00,  8.26899267e+00],\n",
              "       [ 1.00000000e+00, -1.49098779e+00,  2.22304460e+00],\n",
              "       [ 1.00000000e+00,  6.04593973e-01,  3.65533872e-01],\n",
              "       [ 1.00000000e+00, -1.39221380e+00,  1.93825926e+00],\n",
              "       [ 1.00000000e+00,  2.38196669e+00,  5.67376529e+00],\n",
              "       [ 1.00000000e+00,  2.48498105e-01,  6.17513082e-02],\n",
              "       [ 1.00000000e+00,  1.10549870e-01,  1.22212738e-02],\n",
              "       [ 1.00000000e+00, -1.20256468e+00,  1.44616181e+00],\n",
              "       [ 1.00000000e+00,  4.94135604e-02,  2.44169996e-03],\n",
              "       [ 1.00000000e+00,  2.64083328e+00,  6.97400040e+00],\n",
              "       [ 1.00000000e+00,  1.68797350e+00,  2.84925454e+00],\n",
              "       [ 1.00000000e+00,  2.35516486e+00,  5.54680150e+00],\n",
              "       [ 1.00000000e+00, -7.89168426e-01,  6.22786805e-01],\n",
              "       [ 1.00000000e+00, -1.73395346e+00,  3.00659460e+00],\n",
              "       [ 1.00000000e+00, -1.66515993e+00,  2.77275760e+00],\n",
              "       [ 1.00000000e+00,  2.53655764e+00,  6.43412466e+00],\n",
              "       [ 1.00000000e+00, -1.06779086e+00,  1.14017731e+00],\n",
              "       [ 1.00000000e+00, -1.97829366e-01,  3.91364582e-02],\n",
              "       [ 1.00000000e+00, -2.88844071e+00,  8.34308972e+00],\n",
              "       [ 1.00000000e+00,  2.76033064e+00,  7.61942523e+00],\n",
              "       [ 1.00000000e+00,  2.58802566e+00,  6.69787683e+00],\n",
              "       [ 1.00000000e+00, -1.25081457e+00,  1.56453709e+00],\n",
              "       [ 1.00000000e+00, -1.60035806e+00,  2.56114591e+00],\n",
              "       [ 1.00000000e+00, -8.43182840e-01,  7.10957302e-01],\n",
              "       [ 1.00000000e+00, -1.17645732e-01,  1.38405184e-02],\n",
              "       [ 1.00000000e+00,  2.65264237e+00,  7.03651153e+00],\n",
              "       [ 1.00000000e+00, -5.42393403e-01,  2.94190604e-01],\n",
              "       [ 1.00000000e+00,  1.02928598e+00,  1.05942962e+00],\n",
              "       [ 1.00000000e+00, -1.35193997e+00,  1.82774167e+00],\n",
              "       [ 1.00000000e+00,  4.35893830e-01,  1.90003431e-01],\n",
              "       [ 1.00000000e+00, -9.69587580e-01,  9.40100076e-01],\n",
              "       [ 1.00000000e+00,  8.73653826e-01,  7.63271008e-01]])"
            ]
          },
          "metadata": {},
          "execution_count": 22
        }
      ]
    },
    {
      "cell_type": "code",
      "source": [
        "X_test_poly"
      ],
      "metadata": {
        "colab": {
          "base_uri": "https://localhost:8080/"
        },
        "id": "UOOT81gBZb4s",
        "outputId": "4cea0288-533f-47e0-9890-ba67d80d7047"
      },
      "execution_count": 28,
      "outputs": [
        {
          "output_type": "execute_result",
          "data": {
            "text/plain": [
              "array([[ 1.        , -0.36033742,  0.12984306],\n",
              "       [ 1.        , -1.55060095,  2.40436332],\n",
              "       [ 1.        , -1.89332683,  3.5846865 ],\n",
              "       [ 1.        ,  0.16624545,  0.02763755],\n",
              "       [ 1.        , -0.57033257,  0.32527924],\n",
              "       [ 1.        , -0.46650766,  0.2176294 ],\n",
              "       [ 1.        ,  1.28880856,  1.66102752],\n",
              "       [ 1.        , -0.3860108 ,  0.14900434],\n",
              "       [ 1.        ,  1.23443227,  1.52382303],\n",
              "       [ 1.        ,  0.95333633,  0.90885017],\n",
              "       [ 1.        ,  1.00288747,  1.00578329],\n",
              "       [ 1.        ,  2.66472002,  7.1007328 ],\n",
              "       [ 1.        ,  2.9534234 ,  8.7227098 ],\n",
              "       [ 1.        ,  1.04985402,  1.10219347],\n",
              "       [ 1.        , -1.00053404,  1.00106836],\n",
              "       [ 1.        ,  1.91275521,  3.65863251],\n",
              "       [ 1.        , -2.0206422 ,  4.08299491],\n",
              "       [ 1.        , -2.58163796,  6.66485454],\n",
              "       [ 1.        ,  0.2007151 ,  0.04028655],\n",
              "       [ 1.        , -1.2666545 ,  1.60441361]])"
            ]
          },
          "metadata": {},
          "execution_count": 28
        }
      ]
    },
    {
      "source": [
        "from sklearn.metrics import r2_score\n",
        "lin_reg_poly = LinearRegression()\n",
        "lin_reg_poly.fit(X_train_poly, Y_train)\n",
        "y_pred = lin_reg_poly.predict(X_test_poly)\n",
        "r2_score(Y_test, y_pred)"
      ],
      "cell_type": "code",
      "metadata": {
        "colab": {
          "base_uri": "https://localhost:8080/"
        },
        "id": "LEsrtydci2Kt",
        "outputId": "7567e4f5-4475-4de8-fa4d-5f23359a559c"
      },
      "execution_count": 31,
      "outputs": [
        {
          "output_type": "execute_result",
          "data": {
            "text/plain": [
              "0.8789416243317949"
            ]
          },
          "metadata": {},
          "execution_count": 31
        }
      ]
    },
    {
      "cell_type": "code",
      "source": [
        "print(lin_reg_poly.coef_)"
      ],
      "metadata": {
        "colab": {
          "base_uri": "https://localhost:8080/"
        },
        "id": "oXgQVe6Fi-A1",
        "outputId": "83fdc51b-7f5c-4e09-d3fd-d6e2ae72770d"
      },
      "execution_count": 36,
      "outputs": [
        {
          "output_type": "stream",
          "name": "stdout",
          "text": [
            "[[0.         1.47680679 0.5089219 ]]\n"
          ]
        }
      ]
    },
    {
      "cell_type": "code",
      "source": [
        "print(lin_reg_poly.intercept_)"
      ],
      "metadata": {
        "colab": {
          "base_uri": "https://localhost:8080/"
        },
        "id": "_jKTm674jXD_",
        "outputId": "2b2f7839-ad98-49dc-b819-bae5eab97e9e"
      },
      "execution_count": 37,
      "outputs": [
        {
          "output_type": "stream",
          "name": "stdout",
          "text": [
            "[1.95453504]\n"
          ]
        }
      ]
    },
    {
      "cell_type": "code",
      "source": [
        "plt.scatter(X, lin_reg_poly.predict(poly_reg.fit_transform(X)), color = 'blue')\n",
        "plt.scatter(X_train, Y_train)"
      ],
      "metadata": {
        "colab": {
          "base_uri": "https://localhost:8080/",
          "height": 447
        },
        "id": "rBslzYnujbkK",
        "outputId": "bcb14548-1e32-43fe-f9f7-a374f19fdbbb"
      },
      "execution_count": 38,
      "outputs": [
        {
          "output_type": "execute_result",
          "data": {
            "text/plain": [
              "<matplotlib.collections.PathCollection at 0x78599c287550>"
            ]
          },
          "metadata": {},
          "execution_count": 38
        },
        {
          "output_type": "display_data",
          "data": {
            "text/plain": [
              "<Figure size 640x480 with 1 Axes>"
            ],
            "image/png": "[encoded data removed]"
          },
          "metadata": {}
        }
      ]
    },
    {
      "cell_type": "code",
      "source": [
        "poly_reg = PolynomialFeatures(degree = 4, include_bias=True)\n",
        "X_train_poly = poly_reg.fit_transform(X_train)\n",
        "X_test_poly = poly_reg.fit_transform(X_test)"
      ],
      "metadata": {
        "id": "M2Qn3bpTjqEl"
      },
      "execution_count": 44,
      "outputs": []
    },
    {
      "cell_type": "code",
      "source": [
        "X_train_poly"
      ],
      "metadata": {
        "colab": {
          "base_uri": "https://localhost:8080/"
        },
        "id": "3Xtked5kj97M",
        "outputId": "856f8a0f-5dc3-4d27-b627-1888e77b91bb"
      },
      "execution_count": 45,
      "outputs": [
        {
          "output_type": "execute_result",
          "data": {
            "text/plain": [
              "array([[ 1.00000000e+00,  1.87029329e+00,  3.49799700e+00,\n",
              "         6.54228033e+00,  1.22359830e+01],\n",
              "       [ 1.00000000e+00, -1.54227843e+00,  2.37862275e+00,\n",
              "        -3.66849855e+00,  5.65784618e+00],\n",
              "       [ 1.00000000e+00, -2.58536871e+00,  6.68413137e+00,\n",
              "        -1.72809441e+01,  4.46776122e+01],\n",
              "       [ 1.00000000e+00,  2.53250090e+00,  6.41356079e+00,\n",
              "         1.62423485e+01,  4.11337621e+01],\n",
              "       [ 1.00000000e+00, -2.64496128e+00,  6.99582016e+00,\n",
              "        -1.85036734e+01,  4.89414997e+01],\n",
              "       [ 1.00000000e+00, -8.76078116e-01,  7.67512865e-01,\n",
              "        -6.72401225e-01,  5.89075998e-01],\n",
              "       [ 1.00000000e+00, -2.77768308e+00,  7.71552330e+00,\n",
              "        -2.14312785e+01,  5.95292998e+01],\n",
              "       [ 1.00000000e+00,  6.20938458e-02,  3.85564569e-03,\n",
              "         2.39411869e-04,  1.48660036e-05],\n",
              "       [ 1.00000000e+00,  1.00891868e+00,  1.01791691e+00,\n",
              "         1.02699539e+00,  1.03615484e+00],\n",
              "       [ 1.00000000e+00, -2.10849364e+00,  4.44574541e+00,\n",
              "        -9.37382591e+00,  1.97646523e+01],\n",
              "       [ 1.00000000e+00,  2.36284937e+00,  5.58305714e+00,\n",
              "         1.31919230e+01,  3.11705270e+01],\n",
              "       [ 1.00000000e+00, -1.39821571e+00,  1.95500717e+00,\n",
              "        -2.73352174e+00,  3.82205304e+00],\n",
              "       [ 1.00000000e+00,  1.55888447e+00,  2.43012080e+00,\n",
              "         3.78827758e+00,  5.90548709e+00],\n",
              "       [ 1.00000000e+00,  1.88787541e+00,  3.56407357e+00,\n",
              "         6.72852686e+00,  1.27026204e+01],\n",
              "       [ 1.00000000e+00, -5.83058712e-01,  3.39957462e-01,\n",
              "        -1.98215160e-01,  1.15571076e-01],\n",
              "       [ 1.00000000e+00,  2.29227757e+00,  5.25453644e+00,\n",
              "         1.20448560e+01,  2.76101532e+01],\n",
              "       [ 1.00000000e+00,  1.17670168e+00,  1.38462684e+00,\n",
              "         1.62929272e+00,  1.91719148e+00],\n",
              "       [ 1.00000000e+00,  7.94457253e-01,  6.31162326e-01,\n",
              "         5.01431488e-01,  3.98365882e-01],\n",
              "       [ 1.00000000e+00,  2.81691647e-01,  7.93501839e-02,\n",
              "         2.23522840e-02,  6.29645169e-03],\n",
              "       [ 1.00000000e+00,  8.16645537e-01,  6.66909932e-01,\n",
              "         5.44629020e-01,  4.44768858e-01],\n",
              "       [ 1.00000000e+00, -1.98394720e+00,  3.93604649e+00,\n",
              "        -7.80890840e+00,  1.54924620e+01],\n",
              "       [ 1.00000000e+00, -2.62991909e+00,  6.91647443e+00,\n",
              "        -1.81897681e+01,  4.78376185e+01],\n",
              "       [ 1.00000000e+00,  2.06207585e+00,  4.25215683e+00,\n",
              "         8.76826993e+00,  1.80808377e+01],\n",
              "       [ 1.00000000e+00,  7.37701987e-01,  5.44204222e-01,\n",
              "         4.01460536e-01,  2.96158236e-01],\n",
              "       [ 1.00000000e+00,  1.01522122e+00,  1.03067413e+00,\n",
              "         1.04636226e+00,  1.06228917e+00],\n",
              "       [ 1.00000000e+00,  2.84601526e+00,  8.09980287e+00,\n",
              "         2.30521626e+01,  6.56068065e+01],\n",
              "       [ 1.00000000e+00,  2.34011504e+00,  5.47613840e+00,\n",
              "         1.28147938e+01,  2.99880918e+01],\n",
              "       [ 1.00000000e+00, -2.97132164e+00,  8.82875228e+00,\n",
              "        -2.62330627e+01,  7.79468668e+01],\n",
              "       [ 1.00000000e+00, -4.42948778e-01,  1.96203620e-01,\n",
              "        -8.69081535e-02,  3.84958604e-02],\n",
              "       [ 1.00000000e+00,  5.42697507e-01,  2.94520584e-01,\n",
              "         1.59835586e-01,  8.67423742e-02],\n",
              "       [ 1.00000000e+00, -1.76727067e+00,  3.12324563e+00,\n",
              "        -5.51962042e+00,  9.75466330e+00],\n",
              "       [ 1.00000000e+00, -1.98199030e-01,  3.92828555e-02,\n",
              "        -7.78582386e-03,  1.54314274e-03],\n",
              "       [ 1.00000000e+00, -1.64996005e+00,  2.72236817e+00,\n",
              "        -4.49179873e+00,  7.41128846e+00],\n",
              "       [ 1.00000000e+00, -1.65988010e+00,  2.75520194e+00,\n",
              "        -4.57330488e+00,  7.59113776e+00],\n",
              "       [ 1.00000000e+00,  1.24243220e+00,  1.54363777e+00,\n",
              "         1.91786526e+00,  2.38281755e+00],\n",
              "       [ 1.00000000e+00, -2.70299591e+00,  7.30618690e+00,\n",
              "        -1.97485933e+01,  5.33803670e+01],\n",
              "       [ 1.00000000e+00, -2.94352403e+00,  8.66433372e+00,\n",
              "        -2.55036745e+01,  7.50706788e+01],\n",
              "       [ 1.00000000e+00,  1.46832054e+00,  2.15596522e+00,\n",
              "         3.16564803e+00,  4.64818604e+00],\n",
              "       [ 1.00000000e+00,  2.38718897e+00,  5.69867118e+00,\n",
              "         1.36038050e+01,  3.24748532e+01],\n",
              "       [ 1.00000000e+00,  1.65064256e+00,  2.72462086e+00,\n",
              "         4.49737514e+00,  7.42355881e+00],\n",
              "       [ 1.00000000e+00,  1.46625983e+00,  2.14991790e+00,\n",
              "         3.15233826e+00,  4.62214697e+00],\n",
              "       [ 1.00000000e+00,  2.66201202e+00,  7.08630798e+00,\n",
              "         1.88638370e+01,  5.02157607e+01],\n",
              "       [ 1.00000000e+00,  2.51661470e-01,  6.33334956e-02,\n",
              "         1.59386006e-02,  4.01113167e-03],\n",
              "       [ 1.00000000e+00,  8.31715861e-01,  6.91751274e-01,\n",
              "         5.75340507e-01,  4.78519825e-01],\n",
              "       [ 1.00000000e+00,  2.03600255e+00,  4.14530638e+00,\n",
              "         8.43985437e+00,  1.71835650e+01],\n",
              "       [ 1.00000000e+00,  2.42750981e+00,  5.89280389e+00,\n",
              "         1.43048393e+01,  3.47251377e+01],\n",
              "       [ 1.00000000e+00,  1.20233951e-01,  1.44562030e-02,\n",
              "         1.73812641e-03,  2.08981806e-04],\n",
              "       [ 1.00000000e+00,  3.14417312e-01,  9.88582460e-02,\n",
              "         3.10827439e-02,  9.77295279e-03],\n",
              "       [ 1.00000000e+00,  2.87558562e+00,  8.26899267e+00,\n",
              "         2.37781964e+01,  6.83762397e+01],\n",
              "       [ 1.00000000e+00, -1.49098779e+00,  2.22304460e+00,\n",
              "        -3.31453236e+00,  4.94192729e+00],\n",
              "       [ 1.00000000e+00,  6.04593973e-01,  3.65533872e-01,\n",
              "         2.20999576e-01,  1.33615012e-01],\n",
              "       [ 1.00000000e+00, -1.39221380e+00,  1.93825926e+00,\n",
              "        -2.69847129e+00,  3.75684896e+00],\n",
              "       [ 1.00000000e+00,  2.38196669e+00,  5.67376529e+00,\n",
              "         1.35147199e+01,  3.21916126e+01],\n",
              "       [ 1.00000000e+00,  2.48498105e-01,  6.17513082e-02,\n",
              "         1.53450831e-02,  3.81322406e-03],\n",
              "       [ 1.00000000e+00,  1.10549870e-01,  1.22212738e-02,\n",
              "         1.35106023e-03,  1.49359532e-04],\n",
              "       [ 1.00000000e+00, -1.20256468e+00,  1.44616181e+00,\n",
              "        -1.73910311e+00,  2.09138397e+00],\n",
              "       [ 1.00000000e+00,  4.94135604e-02,  2.44169996e-03,\n",
              "         1.20653088e-04,  5.96189868e-06],\n",
              "       [ 1.00000000e+00,  2.64083328e+00,  6.97400040e+00,\n",
              "         1.84171723e+01,  4.86366816e+01],\n",
              "       [ 1.00000000e+00,  1.68797350e+00,  2.84925454e+00,\n",
              "         4.80946616e+00,  8.11825143e+00],\n",
              "       [ 1.00000000e+00,  2.35516486e+00,  5.54680150e+00,\n",
              "         1.30636320e+01,  3.07670069e+01],\n",
              "       [ 1.00000000e+00, -7.89168426e-01,  6.22786805e-01,\n",
              "        -4.91483683e-01,  3.87863405e-01],\n",
              "       [ 1.00000000e+00, -1.73395346e+00,  3.00659460e+00,\n",
              "        -5.21329511e+00,  9.03961110e+00],\n",
              "       [ 1.00000000e+00, -1.66515993e+00,  2.77275760e+00,\n",
              "        -4.61708485e+00,  7.68818470e+00],\n",
              "       [ 1.00000000e+00,  2.53655764e+00,  6.43412466e+00,\n",
              "         1.63205280e+01,  4.13979601e+01],\n",
              "       [ 1.00000000e+00, -1.06779086e+00,  1.14017731e+00,\n",
              "        -1.21747091e+00,  1.30000430e+00],\n",
              "       [ 1.00000000e+00, -1.97829366e-01,  3.91364582e-02,\n",
              "        -7.74234072e-03,  1.53166236e-03],\n",
              "       [ 1.00000000e+00, -2.88844071e+00,  8.34308972e+00,\n",
              "        -2.40985200e+01,  6.96071460e+01],\n",
              "       [ 1.00000000e+00,  2.76033064e+00,  7.61942523e+00,\n",
              "         2.10321329e+01,  5.80556408e+01],\n",
              "       [ 1.00000000e+00,  2.58802566e+00,  6.69787683e+00,\n",
              "         1.73342771e+01,  4.48615540e+01],\n",
              "       [ 1.00000000e+00, -1.25081457e+00,  1.56453709e+00,\n",
              "        -1.95694578e+00,  2.44777630e+00],\n",
              "       [ 1.00000000e+00, -1.60035806e+00,  2.56114591e+00,\n",
              "        -4.09875048e+00,  6.55946835e+00],\n",
              "       [ 1.00000000e+00, -8.43182840e-01,  7.10957302e-01,\n",
              "        -5.99466997e-01,  5.05460286e-01],\n",
              "       [ 1.00000000e+00, -1.17645732e-01,  1.38405184e-02,\n",
              "        -1.62827792e-03,  1.91559949e-04],\n",
              "       [ 1.00000000e+00,  2.65264237e+00,  7.03651153e+00,\n",
              "         1.86653486e+01,  4.95124945e+01],\n",
              "       [ 1.00000000e+00, -5.42393403e-01,  2.94190604e-01,\n",
              "        -1.59567043e-01,  8.65481114e-02],\n",
              "       [ 1.00000000e+00,  1.02928598e+00,  1.05942962e+00,\n",
              "         1.09045605e+00,  1.12239112e+00],\n",
              "       [ 1.00000000e+00, -1.35193997e+00,  1.82774167e+00,\n",
              "        -2.47099701e+00,  3.34063962e+00],\n",
              "       [ 1.00000000e+00,  4.35893830e-01,  1.90003431e-01,\n",
              "         8.28213230e-02,  3.61013037e-02],\n",
              "       [ 1.00000000e+00, -9.69587580e-01,  9.40100076e-01,\n",
              "        -9.11509358e-01,  8.83788153e-01],\n",
              "       [ 1.00000000e+00,  8.73653826e-01,  7.63271008e-01,\n",
              "         6.66834637e-01,  5.82582632e-01]])"
            ]
          },
          "metadata": {},
          "execution_count": 45
        }
      ]
    },
    {
      "cell_type": "code",
      "source": [
        "from sklearn.metrics import r2_score\n",
        "lin_reg_poly = LinearRegression()\n",
        "lin_reg_poly.fit(X_train_poly, Y_train)\n",
        "y_pred = lin_reg_poly.predict(X_test_poly)\n",
        "r2_score(Y_test, y_pred)"
      ],
      "metadata": {
        "colab": {
          "base_uri": "https://localhost:8080/"
        },
        "id": "ogNCeDZekCts",
        "outputId": "76cebf85-9f25-44ed-81e1-d196561a8b74"
      },
      "execution_count": 46,
      "outputs": [
        {
          "output_type": "execute_result",
          "data": {
            "text/plain": [
              "0.8755358951801467"
            ]
          },
          "metadata": {},
          "execution_count": 46
        }
      ]
    },
    {
      "cell_type": "code",
      "source": [
        "X_new = np.linspace(-3, 3, 100).reshape(100, 1)\n",
        "X_new_poly = poly_reg.transform(X_new)\n",
        "X_new_poly"
      ],
      "metadata": {
        "colab": {
          "base_uri": "https://localhost:8080/"
        },
        "id": "SY9PES30kcSU",
        "outputId": "99efca2f-d607-4c22-963d-b73c5e23a18c"
      },
      "execution_count": 47,
      "outputs": [
        {
          "output_type": "execute_result",
          "data": {
            "text/plain": [
              "array([[ 1.00000000e+00, -3.00000000e+00,  9.00000000e+00,\n",
              "        -2.70000000e+01,  8.10000000e+01],\n",
              "       [ 1.00000000e+00, -2.93939394e+00,  8.64003673e+00,\n",
              "        -2.53964716e+01,  7.46502347e+01],\n",
              "       [ 1.00000000e+00, -2.87878788e+00,  8.28741965e+00,\n",
              "        -2.38577232e+01,  6.86813245e+01],\n",
              "       [ 1.00000000e+00, -2.81818182e+00,  7.94214876e+00,\n",
              "        -2.23824192e+01,  6.30777269e+01],\n",
              "       [ 1.00000000e+00, -2.75757576e+00,  7.60422406e+00,\n",
              "        -2.09692239e+01,  5.78242235e+01],\n",
              "       [ 1.00000000e+00, -2.69696970e+00,  7.27364555e+00,\n",
              "        -1.96168016e+01,  5.29059195e+01],\n",
              "       [ 1.00000000e+00, -2.63636364e+00,  6.95041322e+00,\n",
              "        -1.83238167e+01,  4.83082440e+01],\n",
              "       [ 1.00000000e+00, -2.57575758e+00,  6.63452709e+00,\n",
              "        -1.70889334e+01,  4.40169497e+01],\n",
              "       [ 1.00000000e+00, -2.51515152e+00,  6.32598714e+00,\n",
              "        -1.59108162e+01,  4.00181133e+01],\n",
              "       [ 1.00000000e+00, -2.45454545e+00,  6.02479339e+00,\n",
              "        -1.47881292e+01,  3.62981354e+01],\n",
              "       [ 1.00000000e+00, -2.39393939e+00,  5.73094582e+00,\n",
              "        -1.37195370e+01,  3.28437400e+01],\n",
              "       [ 1.00000000e+00, -2.33333333e+00,  5.44444444e+00,\n",
              "        -1.27037037e+01,  2.96419753e+01],\n",
              "       [ 1.00000000e+00, -2.27272727e+00,  5.16528926e+00,\n",
              "        -1.17392938e+01,  2.66802131e+01],\n",
              "       [ 1.00000000e+00, -2.21212121e+00,  4.89348026e+00,\n",
              "        -1.08249715e+01,  2.39461490e+01],\n",
              "       [ 1.00000000e+00, -2.15151515e+00,  4.62901745e+00,\n",
              "        -9.95940117e+00,  2.14278025e+01],\n",
              "       [ 1.00000000e+00, -2.09090909e+00,  4.37190083e+00,\n",
              "        -9.14124718e+00,  1.91135168e+01],\n",
              "       [ 1.00000000e+00, -2.03030303e+00,  4.12213039e+00,\n",
              "        -8.36917383e+00,  1.69919590e+01],\n",
              "       [ 1.00000000e+00, -1.96969697e+00,  3.87970615e+00,\n",
              "        -7.64184545e+00,  1.50521198e+01],\n",
              "       [ 1.00000000e+00, -1.90909091e+00,  3.64462810e+00,\n",
              "        -6.95792637e+00,  1.32833140e+01],\n",
              "       [ 1.00000000e+00, -1.84848485e+00,  3.41689624e+00,\n",
              "        -6.31608092e+00,  1.16751799e+01],\n",
              "       [ 1.00000000e+00, -1.78787879e+00,  3.19651056e+00,\n",
              "        -5.71497343e+00,  1.02176798e+01],\n",
              "       [ 1.00000000e+00, -1.72727273e+00,  2.98347107e+00,\n",
              "        -5.15326822e+00,  8.90109965e+00],\n",
              "       [ 1.00000000e+00, -1.66666667e+00,  2.77777778e+00,\n",
              "        -4.62962963e+00,  7.71604938e+00],\n",
              "       [ 1.00000000e+00, -1.60606061e+00,  2.57943067e+00,\n",
              "        -4.14272199e+00,  6.65346258e+00],\n",
              "       [ 1.00000000e+00, -1.54545455e+00,  2.38842975e+00,\n",
              "        -3.69120962e+00,  5.70459668e+00],\n",
              "       [ 1.00000000e+00, -1.48484848e+00,  2.20477502e+00,\n",
              "        -3.27375685e+00,  4.86103290e+00],\n",
              "       [ 1.00000000e+00, -1.42424242e+00,  2.02846648e+00,\n",
              "        -2.88902802e+00,  4.11467627e+00],\n",
              "       [ 1.00000000e+00, -1.36363636e+00,  1.85950413e+00,\n",
              "        -2.53568745e+00,  3.45775562e+00],\n",
              "       [ 1.00000000e+00, -1.30303030e+00,  1.69788797e+00,\n",
              "        -2.21239948e+00,  2.88282356e+00],\n",
              "       [ 1.00000000e+00, -1.24242424e+00,  1.54361800e+00,\n",
              "        -1.91782842e+00,  2.38275652e+00],\n",
              "       [ 1.00000000e+00, -1.18181818e+00,  1.39669421e+00,\n",
              "        -1.65063862e+00,  1.95075473e+00],\n",
              "       [ 1.00000000e+00, -1.12121212e+00,  1.25711662e+00,\n",
              "        -1.40949439e+00,  1.58034220e+00],\n",
              "       [ 1.00000000e+00, -1.06060606e+00,  1.12488522e+00,\n",
              "        -1.19306008e+00,  1.26536675e+00],\n",
              "       [ 1.00000000e+00, -1.00000000e+00,  1.00000000e+00,\n",
              "        -1.00000000e+00,  1.00000000e+00],\n",
              "       [ 1.00000000e+00, -9.39393939e-01,  8.82460973e-01,\n",
              "        -8.28978490e-01,  7.78737370e-01],\n",
              "       [ 1.00000000e+00, -8.78787879e-01,  7.72268136e-01,\n",
              "        -6.78659877e-01,  5.96398074e-01],\n",
              "       [ 1.00000000e+00, -8.18181818e-01,  6.69421488e-01,\n",
              "        -5.47708490e-01,  4.48125128e-01],\n",
              "       [ 1.00000000e+00, -7.57575758e-01,  5.73921028e-01,\n",
              "        -4.34788658e-01,  3.29385347e-01],\n",
              "       [ 1.00000000e+00, -6.96969697e-01,  4.85766758e-01,\n",
              "        -3.38564710e-01,  2.35969344e-01],\n",
              "       [ 1.00000000e+00, -6.36363636e-01,  4.04958678e-01,\n",
              "        -2.57700977e-01,  1.63991531e-01],\n",
              "       [ 1.00000000e+00, -5.75757576e-01,  3.31496786e-01,\n",
              "        -1.90861786e-01,  1.09890119e-01],\n",
              "       [ 1.00000000e+00, -5.15151515e-01,  2.65381084e-01,\n",
              "        -1.36711467e-01,  7.04271195e-02],\n",
              "       [ 1.00000000e+00, -4.54545455e-01,  2.06611570e-01,\n",
              "        -9.39143501e-02,  4.26883410e-02],\n",
              "       [ 1.00000000e+00, -3.93939394e-01,  1.55188246e-01,\n",
              "        -6.11347636e-02,  2.40833917e-02],\n",
              "       [ 1.00000000e+00, -3.33333333e-01,  1.11111111e-01,\n",
              "        -3.70370370e-02,  1.23456790e-02],\n",
              "       [ 1.00000000e+00, -2.72727273e-01,  7.43801653e-02,\n",
              "        -2.02854996e-02,  5.53240899e-03],\n",
              "       [ 1.00000000e+00, -2.12121212e-01,  4.49954086e-02,\n",
              "        -9.54448062e-03,  2.02458680e-03],\n",
              "       [ 1.00000000e+00, -1.51515152e-01,  2.29568411e-02,\n",
              "        -3.47830926e-03,  5.27016555e-04],\n",
              "       [ 1.00000000e+00, -9.09090909e-02,  8.26446281e-03,\n",
              "        -7.51314801e-04,  6.83013455e-05],\n",
              "       [ 1.00000000e+00, -3.03030303e-02,  9.18273646e-04,\n",
              "        -2.78264741e-05,  8.43226488e-07],\n",
              "       [ 1.00000000e+00,  3.03030303e-02,  9.18273646e-04,\n",
              "         2.78264741e-05,  8.43226488e-07],\n",
              "       [ 1.00000000e+00,  9.09090909e-02,  8.26446281e-03,\n",
              "         7.51314801e-04,  6.83013455e-05],\n",
              "       [ 1.00000000e+00,  1.51515152e-01,  2.29568411e-02,\n",
              "         3.47830926e-03,  5.27016555e-04],\n",
              "       [ 1.00000000e+00,  2.12121212e-01,  4.49954086e-02,\n",
              "         9.54448062e-03,  2.02458680e-03],\n",
              "       [ 1.00000000e+00,  2.72727273e-01,  7.43801653e-02,\n",
              "         2.02854996e-02,  5.53240899e-03],\n",
              "       [ 1.00000000e+00,  3.33333333e-01,  1.11111111e-01,\n",
              "         3.70370370e-02,  1.23456790e-02],\n",
              "       [ 1.00000000e+00,  3.93939394e-01,  1.55188246e-01,\n",
              "         6.11347636e-02,  2.40833917e-02],\n",
              "       [ 1.00000000e+00,  4.54545455e-01,  2.06611570e-01,\n",
              "         9.39143501e-02,  4.26883410e-02],\n",
              "       [ 1.00000000e+00,  5.15151515e-01,  2.65381084e-01,\n",
              "         1.36711467e-01,  7.04271195e-02],\n",
              "       [ 1.00000000e+00,  5.75757576e-01,  3.31496786e-01,\n",
              "         1.90861786e-01,  1.09890119e-01],\n",
              "       [ 1.00000000e+00,  6.36363636e-01,  4.04958678e-01,\n",
              "         2.57700977e-01,  1.63991531e-01],\n",
              "       [ 1.00000000e+00,  6.96969697e-01,  4.85766758e-01,\n",
              "         3.38564710e-01,  2.35969344e-01],\n",
              "       [ 1.00000000e+00,  7.57575758e-01,  5.73921028e-01,\n",
              "         4.34788658e-01,  3.29385347e-01],\n",
              "       [ 1.00000000e+00,  8.18181818e-01,  6.69421488e-01,\n",
              "         5.47708490e-01,  4.48125128e-01],\n",
              "       [ 1.00000000e+00,  8.78787879e-01,  7.72268136e-01,\n",
              "         6.78659877e-01,  5.96398074e-01],\n",
              "       [ 1.00000000e+00,  9.39393939e-01,  8.82460973e-01,\n",
              "         8.28978490e-01,  7.78737370e-01],\n",
              "       [ 1.00000000e+00,  1.00000000e+00,  1.00000000e+00,\n",
              "         1.00000000e+00,  1.00000000e+00],\n",
              "       [ 1.00000000e+00,  1.06060606e+00,  1.12488522e+00,\n",
              "         1.19306008e+00,  1.26536675e+00],\n",
              "       [ 1.00000000e+00,  1.12121212e+00,  1.25711662e+00,\n",
              "         1.40949439e+00,  1.58034220e+00],\n",
              "       [ 1.00000000e+00,  1.18181818e+00,  1.39669421e+00,\n",
              "         1.65063862e+00,  1.95075473e+00],\n",
              "       [ 1.00000000e+00,  1.24242424e+00,  1.54361800e+00,\n",
              "         1.91782842e+00,  2.38275652e+00],\n",
              "       [ 1.00000000e+00,  1.30303030e+00,  1.69788797e+00,\n",
              "         2.21239948e+00,  2.88282356e+00],\n",
              "       [ 1.00000000e+00,  1.36363636e+00,  1.85950413e+00,\n",
              "         2.53568745e+00,  3.45775562e+00],\n",
              "       [ 1.00000000e+00,  1.42424242e+00,  2.02846648e+00,\n",
              "         2.88902802e+00,  4.11467627e+00],\n",
              "       [ 1.00000000e+00,  1.48484848e+00,  2.20477502e+00,\n",
              "         3.27375685e+00,  4.86103290e+00],\n",
              "       [ 1.00000000e+00,  1.54545455e+00,  2.38842975e+00,\n",
              "         3.69120962e+00,  5.70459668e+00],\n",
              "       [ 1.00000000e+00,  1.60606061e+00,  2.57943067e+00,\n",
              "         4.14272199e+00,  6.65346258e+00],\n",
              "       [ 1.00000000e+00,  1.66666667e+00,  2.77777778e+00,\n",
              "         4.62962963e+00,  7.71604938e+00],\n",
              "       [ 1.00000000e+00,  1.72727273e+00,  2.98347107e+00,\n",
              "         5.15326822e+00,  8.90109965e+00],\n",
              "       [ 1.00000000e+00,  1.78787879e+00,  3.19651056e+00,\n",
              "         5.71497343e+00,  1.02176798e+01],\n",
              "       [ 1.00000000e+00,  1.84848485e+00,  3.41689624e+00,\n",
              "         6.31608092e+00,  1.16751799e+01],\n",
              "       [ 1.00000000e+00,  1.90909091e+00,  3.64462810e+00,\n",
              "         6.95792637e+00,  1.32833140e+01],\n",
              "       [ 1.00000000e+00,  1.96969697e+00,  3.87970615e+00,\n",
              "         7.64184545e+00,  1.50521198e+01],\n",
              "       [ 1.00000000e+00,  2.03030303e+00,  4.12213039e+00,\n",
              "         8.36917383e+00,  1.69919590e+01],\n",
              "       [ 1.00000000e+00,  2.09090909e+00,  4.37190083e+00,\n",
              "         9.14124718e+00,  1.91135168e+01],\n",
              "       [ 1.00000000e+00,  2.15151515e+00,  4.62901745e+00,\n",
              "         9.95940117e+00,  2.14278025e+01],\n",
              "       [ 1.00000000e+00,  2.21212121e+00,  4.89348026e+00,\n",
              "         1.08249715e+01,  2.39461490e+01],\n",
              "       [ 1.00000000e+00,  2.27272727e+00,  5.16528926e+00,\n",
              "         1.17392938e+01,  2.66802131e+01],\n",
              "       [ 1.00000000e+00,  2.33333333e+00,  5.44444444e+00,\n",
              "         1.27037037e+01,  2.96419753e+01],\n",
              "       [ 1.00000000e+00,  2.39393939e+00,  5.73094582e+00,\n",
              "         1.37195370e+01,  3.28437400e+01],\n",
              "       [ 1.00000000e+00,  2.45454545e+00,  6.02479339e+00,\n",
              "         1.47881292e+01,  3.62981354e+01],\n",
              "       [ 1.00000000e+00,  2.51515152e+00,  6.32598714e+00,\n",
              "         1.59108162e+01,  4.00181133e+01],\n",
              "       [ 1.00000000e+00,  2.57575758e+00,  6.63452709e+00,\n",
              "         1.70889334e+01,  4.40169497e+01],\n",
              "       [ 1.00000000e+00,  2.63636364e+00,  6.95041322e+00,\n",
              "         1.83238167e+01,  4.83082440e+01],\n",
              "       [ 1.00000000e+00,  2.69696970e+00,  7.27364555e+00,\n",
              "         1.96168016e+01,  5.29059195e+01],\n",
              "       [ 1.00000000e+00,  2.75757576e+00,  7.60422406e+00,\n",
              "         2.09692239e+01,  5.78242235e+01],\n",
              "       [ 1.00000000e+00,  2.81818182e+00,  7.94214876e+00,\n",
              "         2.23824192e+01,  6.30777269e+01],\n",
              "       [ 1.00000000e+00,  2.87878788e+00,  8.28741965e+00,\n",
              "         2.38577232e+01,  6.86813245e+01],\n",
              "       [ 1.00000000e+00,  2.93939394e+00,  8.64003673e+00,\n",
              "         2.53964716e+01,  7.46502347e+01],\n",
              "       [ 1.00000000e+00,  3.00000000e+00,  9.00000000e+00,\n",
              "         2.70000000e+01,  8.10000000e+01]])"
            ]
          },
          "metadata": {},
          "execution_count": 47
        }
      ]
    },
    {
      "cell_type": "code",
      "source": [
        "y_new = lin_reg_poly.predict(X_new_poly)\n",
        "plt.scatter(X_new, y_new, color = 'red', linewidth = 2, label = \"prediction\")\n",
        "plt.scatter(X_train, Y_train , color = 'blue' ,label = 'Train')\n",
        "plt.scatter(X_test, Y_test , color = 'green' ,label = 'Test')\n",
        "plt.legend(loc = 'upper left')\n",
        "plt.show()\n"
      ],
      "metadata": {
        "colab": {
          "base_uri": "https://localhost:8080/",
          "height": 435
        },
        "id": "YDlhE42YnpyD",
        "outputId": "cde0cc14-965b-4540-94db-94b11f02605f"
      },
      "execution_count": 51,
      "outputs": [
        {
          "output_type": "display_data",
          "data": {
            "text/plain": [
              "<Figure size 640x480 with 1 Axes>"
            ],
            "image/png": "[encoded data removed]"
          },
          "metadata": {}
        }
      ]
    }
  ]
}